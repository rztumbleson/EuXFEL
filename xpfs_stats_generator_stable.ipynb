{
 "cells": [
  {
   "cell_type": "code",
   "execution_count": 2,
   "id": "b74bbc21-94c1-47fc-a623-980f0ef8b8e9",
   "metadata": {},
   "outputs": [],
   "source": [
    "import numpy as np\n",
    "import matplotlib.pyplot as plt\n",
    "import dask\n",
    "import dask.array as da\n",
    "import xarray as xr\n",
    "\n",
    "import toolbox_scs as tb\n",
    "from toolbox_scs.routines.boz import load_dssc_module\n",
    "from extra_data import open_run\n",
    "from itertools import combinations\n",
    "from itertools import repeat\n",
    "from dask.distributed import Client, progress\n",
    "from dask_jobqueue import SLURMCluster\n",
    "\n",
    "import pandas as pd\n",
    "from datetime import date\n",
    "from tqdm.notebook import tqdm\n",
    "import matplotlib as mpl\n",
    "mpl.rcParams['figure.figsize'] = (14,8)\n",
    "mpl.rcParams['font.size'] = 20\n",
    "\n",
    "from os.path import basename, exists\n",
    "\n",
    "from glob import glob\n",
    "from pathlib import Path\n",
    "from lmfit import Model, Parameters\n",
    "from scipy.special import gamma, factorial, loggamma"
   ]
  },
  {
   "cell_type": "code",
   "execution_count": 3,
   "id": "6c219644-8e35-41c6-9a17-e51ceeef63af",
   "metadata": {},
   "outputs": [],
   "source": [
    "def process_train(train, pulse_tol=0.05, mask=None, train_id=None, group_id=None, field=None, run=None, module=None, roi_id=None):\n",
    "    # takes in a single train and returns an xarray dataset containing the photon statistics. No contrast calculation is done yet.\n",
    "    # mask is assumed to be zeros everywhere and ones within the region of interest.\n",
    "    # processing time on a single processor is ~15-30s\n",
    "    \n",
    "    # ravel pixels\n",
    "    train = train.reshape(train.shape[0], -1)\n",
    "    # remove negative values\n",
    "    train = np.maximum(0, train)\n",
    "\n",
    "    # initialize arrays to store outputs. nan values means that the pair has been filtered out\n",
    "    # prob_all dimensions: (pulse separation x k photons x unique pairs) = 200 x 100 x 200\n",
    "    # k_bar_all dimensions: (pulse separation x unique pairs) = 200 x 200\n",
    "    # valid_pairs dimensions: (pulse separation) = 200\n",
    "    prob_all = np.zeros((len(train), 100,  len(train)), dtype=float) * np.nan\n",
    "    k_bar_all = np.zeros((len(train), len(train)), dtype=float) * np.nan\n",
    "    valid_pairs = np.zeros(len(train), dtype=int)\n",
    "\n",
    "    # loop over all iterations of pulse separations\n",
    "    for i in tqdm(range(len(train)), total=len(train)):\n",
    "        left_stack = train[:train.shape[0]-i]\n",
    "        right_stack = train[i:]\n",
    "\n",
    "        # ensure that both pulses have equal intensity. This is often not the case and heavily reduces the data.\n",
    "        # I0 in this implementation is just the image sum without applying the mask\n",
    "        filt = np.logical_and(np.nansum(left_stack, axis=-1)<=(1+pulse_tol)*np.nansum(right_stack, axis=-1), \n",
    "                                  np.nansum(right_stack, axis=-1)<=(1+pulse_tol)*np.nansum(left_stack, axis=-1))\n",
    "\n",
    "        # Save the number points that were not filtered for future reference\n",
    "        valid_pairs[i] = len(filt[filt==True])\n",
    "\n",
    "        if mask is None:\n",
    "            smd_left = left_stack[filt]\n",
    "            smd_right = right_stack[filt]\n",
    "        \n",
    "        else:\n",
    "            smd_left = left_stack[filt][..., mask.ravel()==1]\n",
    "            smd_right = right_stack[filt][..., mask.ravel()==1]\n",
    "\n",
    "        two_images = smd_left + smd_right\n",
    "\n",
    "        # allow for a maximum of 100 photons in a single pixel. This is definitely overkill but \n",
    "        # should avoid any errors with shape later.\n",
    "        prob_k = np.zeros((100, len(two_images)), dtype=float) \n",
    "        \n",
    "        # iterate over all images that passed the intensity filter.\n",
    "        # NOTE: the values are filled into the front of the array. The location within the train is not preserved.\n",
    "        # This reduces the number of iterations needed significantly.\n",
    "        two_images[two_images>99] = 99\n",
    "        for ii, p in enumerate(two_images.astype(int)):\n",
    "            counts = np.bincount(p)\n",
    "            prob_k[:len(counts), ii] = counts / (len(p[~np.isnan(p)]))\n",
    "\n",
    "        # Save the average number of photons in the images that passed the intensity filter.\n",
    "        k_bar = np.nanmean(two_images, axis=(-1))\n",
    "\n",
    "        # update output array with new values. shape will be the same across all trains.\n",
    "        prob_all[i, :, :len(prob_k.T)] = prob_k\n",
    "        k_bar_all[i, :len(k_bar)] = k_bar\n",
    "       \n",
    "    # combine data into xarray format that is consistent so it can be concatenated and saved later.\n",
    "    ds = xr.Dataset(\n",
    "        data_vars={'Pk': (('pulse_separation', 'k_photons', 'unique_pairs'), prob_all),\n",
    "                  'k_bar': (('pulse_separation', 'unique_pairs'), k_bar_all),\n",
    "                  'valid_pairs': (('count'), valid_pairs),\n",
    "                   'train': train_id,\n",
    "                   'group': group_id,\n",
    "                   'roi': roi_id\n",
    "                  },\n",
    "        attrs={'run': run,\n",
    "               'current': field,\n",
    "               'module': module\n",
    "              }\n",
    "    )\n",
    "    return ds"
   ]
  },
  {
   "cell_type": "code",
   "execution_count": 4,
   "id": "9e84eb8f-23ee-424c-bda1-18346ae4d6bf",
   "metadata": {},
   "outputs": [],
   "source": [
    "current =    [0.0, 0.5, 1.0, 1.5, 2.0, 2.5, 3.0, 3.5, 4.0]\n",
    "runNB =      [70,  71,  73,  74,  76,  77,  79,  80,  82]\n",
    "modules = [15, 0, 8, 7]\n",
    "proposalNB = 2884\n",
    "\n",
    "run = runNB[0]\n",
    "modno = modules[1]"
   ]
  },
  {
   "cell_type": "code",
   "execution_count": 4,
   "id": "8780f065-331a-4278-84e7-ce2d36bb38d7",
   "metadata": {},
   "outputs": [
    {
     "data": {
      "application/vnd.jupyter.widget-view+json": {
       "model_id": "856ec08182b740a8b540c3edce86143f",
       "version_major": 2,
       "version_minor": 0
      },
      "text/plain": [
       "VBox(children=(HTML(value='<h2>SLURMCluster</h2>'), HBox(children=(HTML(value='\\n<div>\\n  <style scoped>\\n    …"
      ]
     },
     "metadata": {},
     "output_type": "display_data"
    }
   ],
   "source": [
    "# partition = 'exfel'  # For EuXFEL staff\n",
    "partition = 'upex'   # For users\n",
    "\n",
    "cluster = SLURMCluster(\n",
    "    queue=partition,\n",
    "    local_directory='/scratch',  # Local disk space for workers to use\n",
    "    log_directory='./logs',\n",
    "    walltime=600,\n",
    "\n",
    "    # Resources per SLURM job (per node, the way SLURM is configured on Maxwell)\n",
    "    # processes=16 runs 16 Dask workers in a job, so each worker has 1 core & 32 GB RAM.\n",
    "    processes=16, cores=16, memory='512GB',\n",
    ")\n",
    "\n",
    "# Get a notbook widget showing the cluster state\n",
    "cluster"
   ]
  },
  {
   "cell_type": "code",
   "execution_count": 5,
   "id": "f2f946f6-f321-417e-ab29-60ac59aaf6dc",
   "metadata": {},
   "outputs": [],
   "source": [
    "cluster.scale(64)"
   ]
  },
  {
   "cell_type": "code",
   "execution_count": 6,
   "id": "c7ec1b54-0dfa-47c8-9a37-a87703c0528f",
   "metadata": {},
   "outputs": [
    {
     "data": {
      "text/html": [
       "<table style=\"border: 2px solid white;\">\n",
       "<tr>\n",
       "<td style=\"vertical-align: top; border: 0px solid white\">\n",
       "<h3 style=\"text-align: left;\">Client</h3>\n",
       "<ul style=\"text-align: left; list-style: none; margin: 0; padding: 0;\">\n",
       "  <li><b>Scheduler: </b>tcp://131.169.182.161:37644</li>\n",
       "</ul>\n",
       "</td>\n",
       "<td style=\"vertical-align: top; border: 0px solid white\">\n",
       "<h3 style=\"text-align: left;\">Cluster</h3>\n",
       "<ul style=\"text-align: left; list-style:none; margin: 0; padding: 0;\">\n",
       "  <li><b>Workers: </b>64</li>\n",
       "  <li><b>Cores: </b>64</li>\n",
       "  <li><b>Memory: </b>2.05 TB</li>\n",
       "</ul>\n",
       "</td>\n",
       "</tr>\n",
       "</table>"
      ],
      "text/plain": [
       "<Client: 'tcp://131.169.182.161:37644' processes=64 threads=64, memory=2.05 TB>"
      ]
     },
     "execution_count": 6,
     "metadata": {},
     "output_type": "execute_result"
    }
   ],
   "source": [
    "client = Client(cluster)\n",
    "client"
   ]
  },
  {
   "cell_type": "code",
   "execution_count": 5,
   "id": "6c9838a6-7963-4099-8693-f769972ff8f9",
   "metadata": {},
   "outputs": [
    {
     "data": {
      "text/plain": [
       "<matplotlib.image.AxesImage at 0x2b180b2d4080>"
      ]
     },
     "execution_count": 5,
     "metadata": {},
     "output_type": "execute_result"
    },
    {
     "data": {
      "image/png": "[encoded data removed]",
      "text/plain": [
       "<Figure size 1008x576 with 1 Axes>"
      ]
     },
     "metadata": {
      "needs_background": "light"
     },
     "output_type": "display_data"
    }
   ],
   "source": [
    "mask = np.load(f'./xpfs_masks/r{run:0d}_m{modno:1d}.npy')\n",
    "m = mask.copy()\n",
    "m[mask!=2] = 0\n",
    "m[mask==2] = 1\n",
    "mask = m\n",
    "\n",
    "plt.imshow(mask)"
   ]
  },
  {
   "cell_type": "code",
   "execution_count": 6,
   "id": "d2b5a250-0247-45f0-b674-8fe340f23116",
   "metadata": {},
   "outputs": [
    {
     "name": "stdout",
     "output_type": "stream",
     "text": [
      "CPU times: user 0 ns, sys: 12.8 s, total: 12.8 s\n",
      "Wall time: 12.9 s\n"
     ]
    }
   ],
   "source": [
    "%%time\n",
    "gn = 0\n",
    "photon_maps = np.load(f'/gpfs/exfel/u/scratch/SCS/202201/p002884/LS/Reduced_Data/reduced_3-17-23/r{run:0d}m{modno:0d}_{gn:1d}_photon.npy')"
   ]
  },
  {
   "cell_type": "code",
   "execution_count": 26,
   "id": "34499844-0802-48f9-a449-f0437d5161c5",
   "metadata": {},
   "outputs": [
    {
     "data": {
      "application/vnd.jupyter.widget-view+json": {
       "model_id": "dc455665efbb4861881383c3204f2591",
       "version_major": 2,
       "version_minor": 0
      },
      "text/plain": [
       "group:   0%|          | 0/61 [00:00<?, ?it/s]"
      ]
     },
     "metadata": {},
     "output_type": "display_data"
    },
    {
     "data": {
      "application/vnd.jupyter.widget-view+json": {
       "model_id": "fc7ac899e9404a4a87a02de47baee9e7",
       "version_major": 2,
       "version_minor": 0
      },
      "text/plain": [
       "distributing trains:   0%|          | 0/300 [00:00<?, ?it/s]"
      ]
     },
     "metadata": {},
     "output_type": "display_data"
    },
    {
     "data": {
      "application/vnd.jupyter.widget-view+json": {
       "model_id": "b8dffa47f66b450e9e130af1681a600c",
       "version_major": 2,
       "version_minor": 0
      },
      "text/plain": [
       "distributing trains:   0%|          | 0/300 [00:00<?, ?it/s]"
      ]
     },
     "metadata": {},
     "output_type": "display_data"
    },
    {
     "data": {
      "application/vnd.jupyter.widget-view+json": {
       "model_id": "e7923b91572f43679928bd22434018d4",
       "version_major": 2,
       "version_minor": 0
      },
      "text/plain": [
       "distributing trains:   0%|          | 0/300 [00:00<?, ?it/s]"
      ]
     },
     "metadata": {},
     "output_type": "display_data"
    },
    {
     "data": {
      "application/vnd.jupyter.widget-view+json": {
       "model_id": "e83719f617ae4e71abd10f2f99839535",
       "version_major": 2,
       "version_minor": 0
      },
      "text/plain": [
       "distributing trains:   0%|          | 0/300 [00:00<?, ?it/s]"
      ]
     },
     "metadata": {},
     "output_type": "display_data"
    },
    {
     "data": {
      "application/vnd.jupyter.widget-view+json": {
       "model_id": "e007cc922cd345f1a5f8443a1f617409",
       "version_major": 2,
       "version_minor": 0
      },
      "text/plain": [
       "distributing trains:   0%|          | 0/300 [00:00<?, ?it/s]"
      ]
     },
     "metadata": {},
     "output_type": "display_data"
    },
    {
     "data": {
      "application/vnd.jupyter.widget-view+json": {
       "model_id": "713567398c3248ebb102402d50cf6357",
       "version_major": 2,
       "version_minor": 0
      },
      "text/plain": [
       "distributing trains:   0%|          | 0/300 [00:00<?, ?it/s]"
      ]
     },
     "metadata": {},
     "output_type": "display_data"
    },
    {
     "data": {
      "application/vnd.jupyter.widget-view+json": {
       "model_id": "05fb19aa6c0540ed9dccbd515086803f",
       "version_major": 2,
       "version_minor": 0
      },
      "text/plain": [
       "distributing trains:   0%|          | 0/300 [00:00<?, ?it/s]"
      ]
     },
     "metadata": {},
     "output_type": "display_data"
    },
    {
     "data": {
      "application/vnd.jupyter.widget-view+json": {
       "model_id": "c67c33af7cf149bcb3d8d1ed5f3bac4a",
       "version_major": 2,
       "version_minor": 0
      },
      "text/plain": [
       "distributing trains:   0%|          | 0/300 [00:00<?, ?it/s]"
      ]
     },
     "metadata": {},
     "output_type": "display_data"
    },
    {
     "data": {
      "application/vnd.jupyter.widget-view+json": {
       "model_id": "0edcd72109ea4039a2bcb3235f40e9f7",
       "version_major": 2,
       "version_minor": 0
      },
      "text/plain": [
       "distributing trains:   0%|          | 0/300 [00:00<?, ?it/s]"
      ]
     },
     "metadata": {},
     "output_type": "display_data"
    },
    {
     "data": {
      "application/vnd.jupyter.widget-view+json": {
       "model_id": "d9280ff530ab4190bfa3d976c476d838",
       "version_major": 2,
       "version_minor": 0
      },
      "text/plain": [
       "distributing trains:   0%|          | 0/300 [00:00<?, ?it/s]"
      ]
     },
     "metadata": {},
     "output_type": "display_data"
    },
    {
     "data": {
      "application/vnd.jupyter.widget-view+json": {
       "model_id": "75d380efafc64c2ea6156569e43dee68",
       "version_major": 2,
       "version_minor": 0
      },
      "text/plain": [
       "distributing trains:   0%|          | 0/300 [00:00<?, ?it/s]"
      ]
     },
     "metadata": {},
     "output_type": "display_data"
    },
    {
     "data": {
      "application/vnd.jupyter.widget-view+json": {
       "model_id": "21cb0a3491344e7787df6d3688869a64",
       "version_major": 2,
       "version_minor": 0
      },
      "text/plain": [
       "distributing trains:   0%|          | 0/300 [00:00<?, ?it/s]"
      ]
     },
     "metadata": {},
     "output_type": "display_data"
    },
    {
     "data": {
      "application/vnd.jupyter.widget-view+json": {
       "model_id": "e33d876489164c4b84776cd60e1e7aea",
       "version_major": 2,
       "version_minor": 0
      },
      "text/plain": [
       "distributing trains:   0%|          | 0/300 [00:00<?, ?it/s]"
      ]
     },
     "metadata": {},
     "output_type": "display_data"
    },
    {
     "data": {
      "application/vnd.jupyter.widget-view+json": {
       "model_id": "e1d6a3a9aa594d99a0e44373385b9b61",
       "version_major": 2,
       "version_minor": 0
      },
      "text/plain": [
       "distributing trains:   0%|          | 0/300 [00:00<?, ?it/s]"
      ]
     },
     "metadata": {},
     "output_type": "display_data"
    },
    {
     "data": {
      "application/vnd.jupyter.widget-view+json": {
       "model_id": "f0d574ad34d34bcd8f830447edd26e33",
       "version_major": 2,
       "version_minor": 0
      },
      "text/plain": [
       "distributing trains:   0%|          | 0/300 [00:00<?, ?it/s]"
      ]
     },
     "metadata": {},
     "output_type": "display_data"
    },
    {
     "data": {
      "application/vnd.jupyter.widget-view+json": {
       "model_id": "753639744a154354a1f0196682137b63",
       "version_major": 2,
       "version_minor": 0
      },
      "text/plain": [
       "distributing trains:   0%|          | 0/300 [00:00<?, ?it/s]"
      ]
     },
     "metadata": {},
     "output_type": "display_data"
    },
    {
     "data": {
      "application/vnd.jupyter.widget-view+json": {
       "model_id": "b5b28397d5904a28a8d9b0415fcd9ecf",
       "version_major": 2,
       "version_minor": 0
      },
      "text/plain": [
       "distributing trains:   0%|          | 0/300 [00:00<?, ?it/s]"
      ]
     },
     "metadata": {},
     "output_type": "display_data"
    },
    {
     "data": {
      "application/vnd.jupyter.widget-view+json": {
       "model_id": "c421ad041acc49c6a0c1cfffe6080255",
       "version_major": 2,
       "version_minor": 0
      },
      "text/plain": [
       "distributing trains:   0%|          | 0/300 [00:00<?, ?it/s]"
      ]
     },
     "metadata": {},
     "output_type": "display_data"
    },
    {
     "data": {
      "application/vnd.jupyter.widget-view+json": {
       "model_id": "0839a55586814d3e98858c0525314dc6",
       "version_major": 2,
       "version_minor": 0
      },
      "text/plain": [
       "distributing trains:   0%|          | 0/300 [00:00<?, ?it/s]"
      ]
     },
     "metadata": {},
     "output_type": "display_data"
    },
    {
     "data": {
      "application/vnd.jupyter.widget-view+json": {
       "model_id": "271696ee0f65490080620f361d249959",
       "version_major": 2,
       "version_minor": 0
      },
      "text/plain": [
       "distributing trains:   0%|          | 0/300 [00:00<?, ?it/s]"
      ]
     },
     "metadata": {},
     "output_type": "display_data"
    },
    {
     "data": {
      "application/vnd.jupyter.widget-view+json": {
       "model_id": "2c28ab18ab7849d99f7e849d06a65f32",
       "version_major": 2,
       "version_minor": 0
      },
      "text/plain": [
       "distributing trains:   0%|          | 0/300 [00:00<?, ?it/s]"
      ]
     },
     "metadata": {},
     "output_type": "display_data"
    },
    {
     "data": {
      "application/vnd.jupyter.widget-view+json": {
       "model_id": "394c11f2fb8e498a8156a7ffed24a26d",
       "version_major": 2,
       "version_minor": 0
      },
      "text/plain": [
       "distributing trains:   0%|          | 0/300 [00:00<?, ?it/s]"
      ]
     },
     "metadata": {},
     "output_type": "display_data"
    },
    {
     "data": {
      "application/vnd.jupyter.widget-view+json": {
       "model_id": "56e39e20fd344520a558e23a487bb690",
       "version_major": 2,
       "version_minor": 0
      },
      "text/plain": [
       "distributing trains:   0%|          | 0/300 [00:00<?, ?it/s]"
      ]
     },
     "metadata": {},
     "output_type": "display_data"
    },
    {
     "data": {
      "application/vnd.jupyter.widget-view+json": {
       "model_id": "caa7fb295d0c44ebb70d54b45254a8af",
       "version_major": 2,
       "version_minor": 0
      },
      "text/plain": [
       "distributing trains:   0%|          | 0/300 [00:00<?, ?it/s]"
      ]
     },
     "metadata": {},
     "output_type": "display_data"
    },
    {
     "data": {
      "application/vnd.jupyter.widget-view+json": {
       "model_id": "50ac74805ccb4f9e8b33541d4a68cfed",
       "version_major": 2,
       "version_minor": 0
      },
      "text/plain": [
       "distributing trains:   0%|          | 0/300 [00:00<?, ?it/s]"
      ]
     },
     "metadata": {},
     "output_type": "display_data"
    },
    {
     "data": {
      "application/vnd.jupyter.widget-view+json": {
       "model_id": "6c5afa3c131f45d9acf6811e1a129912",
       "version_major": 2,
       "version_minor": 0
      },
      "text/plain": [
       "distributing trains:   0%|          | 0/300 [00:00<?, ?it/s]"
      ]
     },
     "metadata": {},
     "output_type": "display_data"
    },
    {
     "data": {
      "application/vnd.jupyter.widget-view+json": {
       "model_id": "361753acb66c41a4a3a5aac75872fb3a",
       "version_major": 2,
       "version_minor": 0
      },
      "text/plain": [
       "distributing trains:   0%|          | 0/300 [00:00<?, ?it/s]"
      ]
     },
     "metadata": {},
     "output_type": "display_data"
    },
    {
     "data": {
      "application/vnd.jupyter.widget-view+json": {
       "model_id": "891b6df094ed4abeb1a0554e06f84115",
       "version_major": 2,
       "version_minor": 0
      },
      "text/plain": [
       "distributing trains:   0%|          | 0/300 [00:00<?, ?it/s]"
      ]
     },
     "metadata": {},
     "output_type": "display_data"
    },
    {
     "data": {
      "application/vnd.jupyter.widget-view+json": {
       "model_id": "75619cce66dd4abd8b0a94f09be75e2b",
       "version_major": 2,
       "version_minor": 0
      },
      "text/plain": [
       "distributing trains:   0%|          | 0/300 [00:00<?, ?it/s]"
      ]
     },
     "metadata": {},
     "output_type": "display_data"
    },
    {
     "data": {
      "application/vnd.jupyter.widget-view+json": {
       "model_id": "4a865030ade9449cbdb8c60c6fd3b366",
       "version_major": 2,
       "version_minor": 0
      },
      "text/plain": [
       "distributing trains:   0%|          | 0/300 [00:00<?, ?it/s]"
      ]
     },
     "metadata": {},
     "output_type": "display_data"
    },
    {
     "data": {
      "application/vnd.jupyter.widget-view+json": {
       "model_id": "a669fe3006b64c1e8931176ec088e2ad",
       "version_major": 2,
       "version_minor": 0
      },
      "text/plain": [
       "distributing trains:   0%|          | 0/300 [00:00<?, ?it/s]"
      ]
     },
     "metadata": {},
     "output_type": "display_data"
    },
    {
     "data": {
      "application/vnd.jupyter.widget-view+json": {
       "model_id": "5ed2995c84c148f3b49ffa175d6ed128",
       "version_major": 2,
       "version_minor": 0
      },
      "text/plain": [
       "distributing trains:   0%|          | 0/300 [00:00<?, ?it/s]"
      ]
     },
     "metadata": {},
     "output_type": "display_data"
    },
    {
     "data": {
      "application/vnd.jupyter.widget-view+json": {
       "model_id": "106b28f44a2741c5a6c3916855c1c599",
       "version_major": 2,
       "version_minor": 0
      },
      "text/plain": [
       "distributing trains:   0%|          | 0/300 [00:00<?, ?it/s]"
      ]
     },
     "metadata": {},
     "output_type": "display_data"
    },
    {
     "data": {
      "application/vnd.jupyter.widget-view+json": {
       "model_id": "13fae7d46143459e9a2a86e541483d2b",
       "version_major": 2,
       "version_minor": 0
      },
      "text/plain": [
       "distributing trains:   0%|          | 0/300 [00:00<?, ?it/s]"
      ]
     },
     "metadata": {},
     "output_type": "display_data"
    },
    {
     "data": {
      "application/vnd.jupyter.widget-view+json": {
       "model_id": "fa9bc6da51104738893a4674b83143a7",
       "version_major": 2,
       "version_minor": 0
      },
      "text/plain": [
       "distributing trains:   0%|          | 0/300 [00:00<?, ?it/s]"
      ]
     },
     "metadata": {},
     "output_type": "display_data"
    },
    {
     "data": {
      "application/vnd.jupyter.widget-view+json": {
       "model_id": "9d7284c55cb943c599b8b0c691a838fc",
       "version_major": 2,
       "version_minor": 0
      },
      "text/plain": [
       "distributing trains:   0%|          | 0/300 [00:00<?, ?it/s]"
      ]
     },
     "metadata": {},
     "output_type": "display_data"
    },
    {
     "data": {
      "application/vnd.jupyter.widget-view+json": {
       "model_id": "06151c7ae7394b17a176e4d88d1c176a",
       "version_major": 2,
       "version_minor": 0
      },
      "text/plain": [
       "distributing trains:   0%|          | 0/300 [00:00<?, ?it/s]"
      ]
     },
     "metadata": {},
     "output_type": "display_data"
    },
    {
     "data": {
      "application/vnd.jupyter.widget-view+json": {
       "model_id": "b24aa1f5953949a597e551ecdac26032",
       "version_major": 2,
       "version_minor": 0
      },
      "text/plain": [
       "distributing trains:   0%|          | 0/300 [00:00<?, ?it/s]"
      ]
     },
     "metadata": {},
     "output_type": "display_data"
    },
    {
     "data": {
      "application/vnd.jupyter.widget-view+json": {
       "model_id": "4010e5781e5e4977bd35f80cf96c415a",
       "version_major": 2,
       "version_minor": 0
      },
      "text/plain": [
       "distributing trains:   0%|          | 0/300 [00:00<?, ?it/s]"
      ]
     },
     "metadata": {},
     "output_type": "display_data"
    },
    {
     "data": {
      "application/vnd.jupyter.widget-view+json": {
       "model_id": "f2adb25983ec42ce92855dc33d089620",
       "version_major": 2,
       "version_minor": 0
      },
      "text/plain": [
       "distributing trains:   0%|          | 0/300 [00:00<?, ?it/s]"
      ]
     },
     "metadata": {},
     "output_type": "display_data"
    },
    {
     "data": {
      "application/vnd.jupyter.widget-view+json": {
       "model_id": "b7111b398eeb43539f405a041a153a76",
       "version_major": 2,
       "version_minor": 0
      },
      "text/plain": [
       "distributing trains:   0%|          | 0/300 [00:00<?, ?it/s]"
      ]
     },
     "metadata": {},
     "output_type": "display_data"
    },
    {
     "data": {
      "application/vnd.jupyter.widget-view+json": {
       "model_id": "ecd4fbc6a3df44359ec5896ceddc16cd",
       "version_major": 2,
       "version_minor": 0
      },
      "text/plain": [
       "distributing trains:   0%|          | 0/300 [00:00<?, ?it/s]"
      ]
     },
     "metadata": {},
     "output_type": "display_data"
    },
    {
     "data": {
      "application/vnd.jupyter.widget-view+json": {
       "model_id": "a2d2973d20334c6a9c4e1f1326daffcd",
       "version_major": 2,
       "version_minor": 0
      },
      "text/plain": [
       "distributing trains:   0%|          | 0/300 [00:00<?, ?it/s]"
      ]
     },
     "metadata": {},
     "output_type": "display_data"
    },
    {
     "data": {
      "application/vnd.jupyter.widget-view+json": {
       "model_id": "83a66271d5de49caa15c3748219bd532",
       "version_major": 2,
       "version_minor": 0
      },
      "text/plain": [
       "distributing trains:   0%|          | 0/300 [00:00<?, ?it/s]"
      ]
     },
     "metadata": {},
     "output_type": "display_data"
    },
    {
     "data": {
      "application/vnd.jupyter.widget-view+json": {
       "model_id": "d81d33b5377e4b128f6999ed77d81983",
       "version_major": 2,
       "version_minor": 0
      },
      "text/plain": [
       "distributing trains:   0%|          | 0/300 [00:00<?, ?it/s]"
      ]
     },
     "metadata": {},
     "output_type": "display_data"
    },
    {
     "data": {
      "application/vnd.jupyter.widget-view+json": {
       "model_id": "d2d9fa09992d4e8cb8fada540e0c535f",
       "version_major": 2,
       "version_minor": 0
      },
      "text/plain": [
       "distributing trains:   0%|          | 0/300 [00:00<?, ?it/s]"
      ]
     },
     "metadata": {},
     "output_type": "display_data"
    },
    {
     "data": {
      "application/vnd.jupyter.widget-view+json": {
       "model_id": "9feaa6c596ba4cbe881dd8a8a689a026",
       "version_major": 2,
       "version_minor": 0
      },
      "text/plain": [
       "distributing trains:   0%|          | 0/300 [00:00<?, ?it/s]"
      ]
     },
     "metadata": {},
     "output_type": "display_data"
    },
    {
     "data": {
      "application/vnd.jupyter.widget-view+json": {
       "model_id": "15d4d774a84f4be0b2c3b452bca7469b",
       "version_major": 2,
       "version_minor": 0
      },
      "text/plain": [
       "distributing trains:   0%|          | 0/300 [00:00<?, ?it/s]"
      ]
     },
     "metadata": {},
     "output_type": "display_data"
    },
    {
     "data": {
      "application/vnd.jupyter.widget-view+json": {
       "model_id": "2f9cb509a1394b7b8344cf063af8f204",
       "version_major": 2,
       "version_minor": 0
      },
      "text/plain": [
       "distributing trains:   0%|          | 0/300 [00:00<?, ?it/s]"
      ]
     },
     "metadata": {},
     "output_type": "display_data"
    },
    {
     "data": {
      "application/vnd.jupyter.widget-view+json": {
       "model_id": "48cec14d903841e280f382376cfeadad",
       "version_major": 2,
       "version_minor": 0
      },
      "text/plain": [
       "distributing trains:   0%|          | 0/300 [00:00<?, ?it/s]"
      ]
     },
     "metadata": {},
     "output_type": "display_data"
    },
    {
     "data": {
      "application/vnd.jupyter.widget-view+json": {
       "model_id": "5a935c8c544848c7b6d9f949a6df7376",
       "version_major": 2,
       "version_minor": 0
      },
      "text/plain": [
       "distributing trains:   0%|          | 0/300 [00:00<?, ?it/s]"
      ]
     },
     "metadata": {},
     "output_type": "display_data"
    },
    {
     "data": {
      "application/vnd.jupyter.widget-view+json": {
       "model_id": "5003f69b0fee493cb2a35ecc4dae43e2",
       "version_major": 2,
       "version_minor": 0
      },
      "text/plain": [
       "distributing trains:   0%|          | 0/300 [00:00<?, ?it/s]"
      ]
     },
     "metadata": {},
     "output_type": "display_data"
    },
    {
     "data": {
      "application/vnd.jupyter.widget-view+json": {
       "model_id": "5b21747365d549de953d9edc243545f0",
       "version_major": 2,
       "version_minor": 0
      },
      "text/plain": [
       "distributing trains:   0%|          | 0/300 [00:00<?, ?it/s]"
      ]
     },
     "metadata": {},
     "output_type": "display_data"
    },
    {
     "data": {
      "application/vnd.jupyter.widget-view+json": {
       "model_id": "18c18120017b40f596ca9cc053c95ce8",
       "version_major": 2,
       "version_minor": 0
      },
      "text/plain": [
       "distributing trains:   0%|          | 0/300 [00:00<?, ?it/s]"
      ]
     },
     "metadata": {},
     "output_type": "display_data"
    },
    {
     "data": {
      "application/vnd.jupyter.widget-view+json": {
       "model_id": "68b273ae31834b38b546a6b876437de7",
       "version_major": 2,
       "version_minor": 0
      },
      "text/plain": [
       "distributing trains:   0%|          | 0/300 [00:00<?, ?it/s]"
      ]
     },
     "metadata": {},
     "output_type": "display_data"
    },
    {
     "data": {
      "application/vnd.jupyter.widget-view+json": {
       "model_id": "624d4dcd8f8c450ab554fedbf44e8eb4",
       "version_major": 2,
       "version_minor": 0
      },
      "text/plain": [
       "distributing trains:   0%|          | 0/300 [00:00<?, ?it/s]"
      ]
     },
     "metadata": {},
     "output_type": "display_data"
    },
    {
     "data": {
      "application/vnd.jupyter.widget-view+json": {
       "model_id": "7821e34f40bb4d81a4fdf414b55dc1e4",
       "version_major": 2,
       "version_minor": 0
      },
      "text/plain": [
       "distributing trains:   0%|          | 0/300 [00:00<?, ?it/s]"
      ]
     },
     "metadata": {},
     "output_type": "display_data"
    },
    {
     "data": {
      "application/vnd.jupyter.widget-view+json": {
       "model_id": "d20a18b933354d52bccd8bbd9f39f476",
       "version_major": 2,
       "version_minor": 0
      },
      "text/plain": [
       "distributing trains:   0%|          | 0/300 [00:00<?, ?it/s]"
      ]
     },
     "metadata": {},
     "output_type": "display_data"
    },
    {
     "data": {
      "application/vnd.jupyter.widget-view+json": {
       "model_id": "2c4418134c1d423c87adb8402ce9bd68",
       "version_major": 2,
       "version_minor": 0
      },
      "text/plain": [
       "distributing trains:   0%|          | 0/300 [00:00<?, ?it/s]"
      ]
     },
     "metadata": {},
     "output_type": "display_data"
    },
    {
     "data": {
      "application/vnd.jupyter.widget-view+json": {
       "model_id": "3f49811a8c2949cb849715f9331d5df4",
       "version_major": 2,
       "version_minor": 0
      },
      "text/plain": [
       "distributing trains:   0%|          | 0/300 [00:00<?, ?it/s]"
      ]
     },
     "metadata": {},
     "output_type": "display_data"
    },
    {
     "data": {
      "application/vnd.jupyter.widget-view+json": {
       "model_id": "b37b5d721a9043f4b8e3d8122913c950",
       "version_major": 2,
       "version_minor": 0
      },
      "text/plain": [
       "distributing trains:   0%|          | 0/300 [00:00<?, ?it/s]"
      ]
     },
     "metadata": {},
     "output_type": "display_data"
    }
   ],
   "source": [
    "# Time to calculate statistics after everything is distributed is about 1:30 (same as time to distribute trains)\n",
    "for gn in tqdm(range(61), total=61, desc='group'): \n",
    "    out_file = rf'./calculated_statistics/r{run:0d}m{modno:0d}_{gn:1d}.h5'\n",
    "    futures = []\n",
    "    for train, m, tid in tqdm(zip(photon_maps, repeat(mask, len(photon_maps)), np.arange(len(photon_maps))), total=len(photon_maps), desc='distributing trains'):\n",
    "        future = client.submit(process_train, train, mask=m, pulse_tol=0.05, train_id=tid,\n",
    "                              group_id=gn, field=0, run=run, module=modno, roi_id=2)\n",
    "        futures.append(future)\n",
    "\n",
    "    # progress doesn't work in for loop unfortunately\n",
    "    #progress(futures)\n",
    "    out = client.gather(futures)\n",
    "    ds = xr.concat(out, dim='train')\n",
    "    ds.to_netcdf(out_file, engine='h5netcdf')"
   ]
  },
  {
   "cell_type": "code",
   "execution_count": null,
   "id": "c8824975-bbc9-4e9c-b95b-9ee0a0bf4cb2",
   "metadata": {},
   "outputs": [],
   "source": [
    "client.shutdown()"
   ]
  }
 ],
 "metadata": {
  "kernelspec": {
   "display_name": "SCS Toolbox (p002884)",
   "language": "python",
   "name": "toolbox_p002884"
  },
  "language_info": {
   "codemirror_mode": {
    "name": "ipython",
    "version": 3
   },
   "file_extension": ".py",
   "mimetype": "text/x-python",
   "name": "python",
   "nbconvert_exporter": "python",
   "pygments_lexer": "ipython3",
   "version": "3.7.3"
  }
 },
 "nbformat": 4,
 "nbformat_minor": 5
}
