{
 "cells": [
  {
   "cell_type": "markdown",
   "id": "78e8f846-876f-4bcf-ab5d-94c34b46ec1e",
   "metadata": {},
   "source": [
    "# imports"
   ]
  },
  {
   "cell_type": "code",
   "execution_count": 27,
   "id": "b74bbc21-94c1-47fc-a623-980f0ef8b8e9",
   "metadata": {},
   "outputs": [],
   "source": [
    "import numpy as np\n",
    "import matplotlib.pyplot as plt\n",
    "import xarray as xr\n",
    "from dask.distributed import Client, progress\n",
    "from dask_jobqueue import SLURMCluster\n",
    "from datetime import datetime\n",
    "from tqdm.notebook import tqdm\n",
    "import matplotlib as mpl\n",
    "plt.style.use('./zoey_style.mplstyle')\n",
    "from os.path import exists"
   ]
  },
  {
   "cell_type": "code",
   "execution_count": 29,
   "id": "0258dfba-0d68-4453-970e-91705e6247cd",
   "metadata": {},
   "outputs": [
    {
     "data": {
      "text/plain": [
       "datetime.datetime(2024, 8, 21, 0, 24, 49, 109264)"
      ]
     },
     "execution_count": 29,
     "metadata": {},
     "output_type": "execute_result"
    }
   ],
   "source": [
    "datetime.now()"
   ]
  },
  {
   "cell_type": "markdown",
   "id": "85eccf4c-5d48-4a83-8485-a15ddf27d99d",
   "metadata": {},
   "source": [
    "# function definitions"
   ]
  },
  {
   "cell_type": "code",
   "execution_count": null,
   "id": "0b379802-d021-4ff8-bf8a-0200c6f70998",
   "metadata": {},
   "outputs": [],
   "source": []
  },
  {
   "cell_type": "code",
   "execution_count": 2,
   "id": "6c219644-8e35-41c6-9a17-e51ceeef63af",
   "metadata": {},
   "outputs": [],
   "source": [
    "def process_train(truncated_train, small_mask, run_index, module_index, group_index, phi_index, train_index, field, pulse_tol=0.05):\n",
    "    \"\"\"Reduce a single train into an xarray dataset that contains photon statistics information.\n",
    "    \n",
    "    Arguments:\n",
    "    truncated train -- numpy array of shape (N pulses, M rows, K columns). Ideally the truncated train is a bounding box around the region\n",
    "                        of interest to minimize the amount of data transferred.\n",
    "    small_mask -- numpy array of shape (M rows, K columns) of type bool. Must match shape of truncated train above. Reduces the number of pixels\n",
    "                    in the calculation.\n",
    "    run_index -- integer or float in {70,  71,  73,  74,  76,  77,  79,  80,  82}. The run number being processed. Used for locating/saving files.\n",
    "    module_index -- integer or float in {15, 0, 8, 7}. The detector module being processed. Used for locating/saving files.\n",
    "    group_index -- integer or float between 0-61. The group number being processed. Used for locating/saving files.\n",
    "    phi_index -- integer or float between 1-3. The angular region of interest (ROI) index being processed. Used for locating/saving files.\n",
    "    train_index -- integer. Artifial index used to merge multiple trains together before saving data. Metadata.\n",
    "    field -- integer or float. Current of magnetic field used during experiment. Metadata.\n",
    "    pulse_tol -- float. The intensity tolerance allowed between two different pulses to be considered valid.\n",
    "    \n",
    "    Returns:\n",
    "    xarray dataset with the following\n",
    "    keys:\n",
    "        probability_k_photons - numpy array of shape (N pulse separations, K photon events, M valid pairs) = (200, 50, 200). Probability of detecting \n",
    "                                K photons at a separation of N pulses. Maximum number of possible pairs is no filtering (M=200) but likely much less.\n",
    "        average_number_photons - numpy array of shape (N pulse separations, M valid pairs) = (200, 200). Average intensity of integrated region of \n",
    "                                interest (ROI) corresponding to probability_k_photons. Maximum number of possible pairs is no filtering (M=200) but \n",
    "                                likely much less.\n",
    "        number_valid_pairs - numpy array of shape (N pulse separations) = (200). The number of pulse pairs that pass the filtering at a delay time \n",
    "                            of N pulses.\n",
    "        integrated_intensity - numpy array of shape (N pulses) = (200). Integrated intensity of region of interest (ROI) for each pulse.\n",
    "        train_index - integer. Artifial index used to merge multiple trains together before saving data. Metadata.\n",
    "        group_index -- integer or float between 0-61. The group number being processed. Used for locating/saving files.\n",
    "        phi_index -- integer or float between 1-3. The angular region of interest (ROI) index being processed. Used for locating/saving files.\n",
    "    \n",
    "    attrs:\n",
    "        run_number -- integer or float in {70,  71,  73,  74,  76,  77,  79,  80,  82}. The run number being processed. Used for locating/saving files.\n",
    "        magnet_current -- integer or float. Current of magnetic field used during experiment. Metadata.\n",
    "        module_number -- integer or float in {15, 0, 8, 7}. The detector module being processed. Used for locating/saving files.\n",
    "        intensity_pulse_tolerance -- float. The intensity tolerance allowed between two different pulses to be considered valid.\n",
    "        date_processed -- datetime. Metadata of when this was processed to help with version control.\n",
    "    \"\"\"\n",
    "    \n",
    "    # turn train into masked array to remove unwanted pixels\n",
    "    train = np.ma.masked_array(data=np.maximum(0, truncated_train), mask=np.broadcast_to(small_mask, truncated_train.shape))\n",
    "    # ravel pixels and remove masked values. train shape is (200 pulses x N pixels)\n",
    "    train = train.compressed().reshape(train.shape[0], -1)\n",
    "\n",
    "    # integrated intensity of image within train intensities shape is (200 pulses)\n",
    "    intensities = train.sum(axis=1)\n",
    "\n",
    "    # iterate over all delay times between two pulses (dt = 0 ... dt = 199)\n",
    "    # check how many pulses pass the intensity filter\n",
    "    valid_pulses = np.zeros(len(train))\n",
    "    # prob_k_all shape is (delay time [200 max] x K [50 max] photons arriving x N [200 max] valid pulses)\n",
    "    prob_k_all = np.zeros((200, 50, 200)) * np.nan\n",
    "    # avg_k_all shape is (delay time [200 max] x N [200 max] valid pulses)\n",
    "    avg_k_all = np.zeros((200, 200)) * np.nan\n",
    "    for i, dt in tqdm(enumerate(range(len(train))), total=len(train)):\n",
    "        left_stack = train[:len(train)-dt]\n",
    "        right_stack = train[dt:]\n",
    "        left_sum = np.sum(left_stack, axis=-1)\n",
    "        right_sum = np.sum(right_stack, axis=-1)\n",
    "        filt = np.logical_and(left_sum<=(1+pulse_tol)*right_sum, \n",
    "                              right_sum<=(1+pulse_tol)*left_sum)\n",
    "\n",
    "        valid_pulses[i] = len(np.where(filt)[0])\n",
    "        # integrate two single pulses to calculate contrast. two_images shape is (N valid pulses x M pixels)\n",
    "        two_images = left_stack[filt] + right_stack[filt]                      \n",
    "        # if there are pixels above 49 photons then set it to 49. This value won't be used in calculating the\n",
    "        # contrast and ensures a consistent size when using np.bincount below\n",
    "        two_images[two_images>49] = 49\n",
    "\n",
    "        # enumerate over all valid pulses to extract the probability of photon arrival events.\n",
    "        prob_k = np.zeros((50, 200)) * np.nan\n",
    "        avg_k = np.zeros((50, 200)) * np.nan\n",
    "        for ii, p in enumerate(two_images.astype(int)):\n",
    "            counts = np.bincount(p)\n",
    "            prob_k[:len(counts), ii] = counts / (len(p))\n",
    "\n",
    "        avg_k = np.mean(two_images, axis=(-1))\n",
    "\n",
    "        prob_k_all[i] = prob_k\n",
    "        avg_k_all[i, :len(avg_k)] = avg_k\n",
    "\n",
    "    # store all relevant data for a single train in a consistent data structure\n",
    "    ds = xr.Dataset(\n",
    "        data_vars={'probability_k_photons': (('pulse_separation', 'k_photons', 'unique_pairs'), prob_k_all),\n",
    "                  'average_number_photons': (('pulse_separation', 'unique_pairs'), avg_k_all),\n",
    "                  'number_valid_pairs': (('index'), valid_pulses),\n",
    "                   'integrated_intensity': (('pulse_index'), intensities),\n",
    "                   'train_index': train_index,\n",
    "                   'group_index': group_index,\n",
    "                   'phi_index': phi_index\n",
    "                  },\n",
    "        attrs={'run_number': run_index,\n",
    "               'magnet_current': field,\n",
    "               'module_number': module_index,\n",
    "               'intensity_pulse_tolerance': pulse_tol,\n",
    "               'date_processed': datetime.now()\n",
    "              }\n",
    "    )    \n",
    "    return ds"
   ]
  },
  {
   "cell_type": "markdown",
   "id": "42117916-8e31-4091-8898-852b81590878",
   "metadata": {},
   "source": [
    "## metadata"
   ]
  },
  {
   "cell_type": "code",
   "execution_count": 3,
   "id": "9e84eb8f-23ee-424c-bda1-18346ae4d6bf",
   "metadata": {},
   "outputs": [],
   "source": [
    "current =    [0.0, 0.5, 1.0, 1.5, 2.0, 2.5, 3.0, 3.5, 4.0]\n",
    "runNB =      [70,  71,  73,  74,  76,  77,  79,  80,  82]\n",
    "modules = [15, 0, 8, 7]\n",
    "proposalNB = 2884\n",
    "\n",
    "field = current[0]\n",
    "run = runNB[0]\n",
    "module = modules[1]\n",
    "phi = 2"
   ]
  },
  {
   "cell_type": "markdown",
   "id": "1c5a69f2-40cf-4f37-a141-b7a70a0079a1",
   "metadata": {},
   "source": [
    "## initialize cluster"
   ]
  },
  {
   "cell_type": "code",
   "execution_count": 4,
   "id": "8780f065-331a-4278-84e7-ce2d36bb38d7",
   "metadata": {},
   "outputs": [
    {
     "data": {
      "application/vnd.jupyter.widget-view+json": {
       "model_id": "e5c28589e4a4443d910f7c5dd6c262d3",
       "version_major": 2,
       "version_minor": 0
      },
      "text/plain": [
       "VBox(children=(HTML(value='<h2>SLURMCluster</h2>'), HBox(children=(HTML(value='\\n<div>\\n  <style scoped>\\n    …"
      ]
     },
     "metadata": {},
     "output_type": "display_data"
    }
   ],
   "source": [
    "partition = 'upex'   # For users\n",
    "\n",
    "cluster = SLURMCluster(\n",
    "    queue=partition,\n",
    "    local_directory='/scratch',  # Local disk space for workers to use\n",
    "    log_directory='./logs',\n",
    "    walltime=600,\n",
    "\n",
    "    # Resources per SLURM job (per node, the way SLURM is configured on Maxwell)\n",
    "    # processes=16 runs 16 Dask workers in a job, so each worker has 1 core & 32 GB RAM.\n",
    "    processes=16, cores=16, memory='512GB',\n",
    ")\n",
    "\n",
    "# Get a notbook widget showing the cluster state\n",
    "cluster"
   ]
  },
  {
   "cell_type": "code",
   "execution_count": 5,
   "id": "f2f946f6-f321-417e-ab29-60ac59aaf6dc",
   "metadata": {},
   "outputs": [],
   "source": [
    "cluster.scale(64)"
   ]
  },
  {
   "cell_type": "code",
   "execution_count": 6,
   "id": "c7ec1b54-0dfa-47c8-9a37-a87703c0528f",
   "metadata": {},
   "outputs": [
    {
     "data": {
      "text/html": [
       "<table style=\"border: 2px solid white;\">\n",
       "<tr>\n",
       "<td style=\"vertical-align: top; border: 0px solid white\">\n",
       "<h3 style=\"text-align: left;\">Client</h3>\n",
       "<ul style=\"text-align: left; list-style: none; margin: 0; padding: 0;\">\n",
       "  <li><b>Scheduler: </b>tcp://131.169.183.131:46839</li>\n",
       "</ul>\n",
       "</td>\n",
       "<td style=\"vertical-align: top; border: 0px solid white\">\n",
       "<h3 style=\"text-align: left;\">Cluster</h3>\n",
       "<ul style=\"text-align: left; list-style:none; margin: 0; padding: 0;\">\n",
       "  <li><b>Workers: </b>64</li>\n",
       "  <li><b>Cores: </b>64</li>\n",
       "  <li><b>Memory: </b>2.05 TB</li>\n",
       "</ul>\n",
       "</td>\n",
       "</tr>\n",
       "</table>"
      ],
      "text/plain": [
       "<Client: 'tcp://131.169.183.131:46839' processes=64 threads=64, memory=2.05 TB>"
      ]
     },
     "execution_count": 6,
     "metadata": {},
     "output_type": "execute_result"
    }
   ],
   "source": [
    "client = Client(cluster)\n",
    "client"
   ]
  },
  {
   "cell_type": "code",
   "execution_count": 7,
   "id": "7a793ea1-cf7c-4eef-b973-418eda109864",
   "metadata": {},
   "outputs": [],
   "source": [
    "def load_photon_maps(run, module, group, phi, roi):\n",
    "    # load photon maps around roi.\n",
    "    photon_maps_filename = f'/gpfs/exfel/u/scratch/SCS/202201/p002884/LS/Reduced_Data/reduced_3-17-23/r{run:0d}m{module:0d}_{group:1d}_photon.npy'\n",
    "    photon_maps = np.load(photon_maps_filename, 'r')[(..., *roi)]\n",
    "    return photon_maps\n",
    "    \n",
    "def load_mask(run, module, phi):\n",
    "    mask = np.load(f'./masks/run{run:0d}_module{module:1d}_mask.npy')\n",
    "    mask[mask!=phi] = 0\n",
    "    mask[mask==phi] = 1\n",
    "    mask = mask.astype(bool)\n",
    "    return mask\n",
    "    \n",
    "def get_roi(mask):\n",
    "    locs = np.argwhere(mask==1).T\n",
    "    roi = np.s_[min(locs[0]):max(locs[0]), min(locs[1]):max(locs[1])]\n",
    "    return roi"
   ]
  },
  {
   "cell_type": "code",
   "execution_count": 8,
   "id": "34499844-0802-48f9-a449-f0437d5161c5",
   "metadata": {},
   "outputs": [
    {
     "data": {
      "application/vnd.jupyter.widget-view+json": {
       "model_id": "80b719fa1a81482582f3cd792a901eba",
       "version_major": 2,
       "version_minor": 0
      },
      "text/plain": [
       "processing group:   0%|          | 0/61 [00:00<?, ?it/s]"
      ]
     },
     "metadata": {},
     "output_type": "display_data"
    },
    {
     "data": {
      "application/vnd.jupyter.widget-view+json": {
       "model_id": "4253ad6cdbd646fa87ae4586766f4dda",
       "version_major": 2,
       "version_minor": 0
      },
      "text/plain": [
       "distributing trains:   0%|          | 0/300 [00:00<?, ?it/s]"
      ]
     },
     "metadata": {},
     "output_type": "display_data"
    },
    {
     "data": {
      "application/vnd.jupyter.widget-view+json": {
       "model_id": "746ead91013745caae045ba0d2e69fa4",
       "version_major": 2,
       "version_minor": 0
      },
      "text/plain": [
       "distributing trains:   0%|          | 0/300 [00:00<?, ?it/s]"
      ]
     },
     "metadata": {},
     "output_type": "display_data"
    },
    {
     "data": {
      "application/vnd.jupyter.widget-view+json": {
       "model_id": "3a731d3bdbe64d94912b37ddd5e07d98",
       "version_major": 2,
       "version_minor": 0
      },
      "text/plain": [
       "distributing trains:   0%|          | 0/300 [00:00<?, ?it/s]"
      ]
     },
     "metadata": {},
     "output_type": "display_data"
    },
    {
     "data": {
      "application/vnd.jupyter.widget-view+json": {
       "model_id": "5fc571d59d064baf840d7d5dddfcf5ca",
       "version_major": 2,
       "version_minor": 0
      },
      "text/plain": [
       "distributing trains:   0%|          | 0/300 [00:00<?, ?it/s]"
      ]
     },
     "metadata": {},
     "output_type": "display_data"
    },
    {
     "data": {
      "application/vnd.jupyter.widget-view+json": {
       "model_id": "199f7ba21c2a4ef0bb84d06c17c61477",
       "version_major": 2,
       "version_minor": 0
      },
      "text/plain": [
       "distributing trains:   0%|          | 0/300 [00:00<?, ?it/s]"
      ]
     },
     "metadata": {},
     "output_type": "display_data"
    },
    {
     "data": {
      "application/vnd.jupyter.widget-view+json": {
       "model_id": "a9a6e2e73770445abc0a75f497f17a0e",
       "version_major": 2,
       "version_minor": 0
      },
      "text/plain": [
       "distributing trains:   0%|          | 0/300 [00:00<?, ?it/s]"
      ]
     },
     "metadata": {},
     "output_type": "display_data"
    },
    {
     "data": {
      "application/vnd.jupyter.widget-view+json": {
       "model_id": "3699597bdcb844aeb95a0cfae1862bb3",
       "version_major": 2,
       "version_minor": 0
      },
      "text/plain": [
       "distributing trains:   0%|          | 0/300 [00:00<?, ?it/s]"
      ]
     },
     "metadata": {},
     "output_type": "display_data"
    },
    {
     "data": {
      "application/vnd.jupyter.widget-view+json": {
       "model_id": "6af4e3f48e3046f8b2b7d152966983c9",
       "version_major": 2,
       "version_minor": 0
      },
      "text/plain": [
       "distributing trains:   0%|          | 0/300 [00:00<?, ?it/s]"
      ]
     },
     "metadata": {},
     "output_type": "display_data"
    },
    {
     "data": {
      "application/vnd.jupyter.widget-view+json": {
       "model_id": "9c8f7c148b84431f800b5f75af548ab5",
       "version_major": 2,
       "version_minor": 0
      },
      "text/plain": [
       "distributing trains:   0%|          | 0/300 [00:00<?, ?it/s]"
      ]
     },
     "metadata": {},
     "output_type": "display_data"
    },
    {
     "data": {
      "application/vnd.jupyter.widget-view+json": {
       "model_id": "659f74b00d92455e830bbd8f5ae18961",
       "version_major": 2,
       "version_minor": 0
      },
      "text/plain": [
       "distributing trains:   0%|          | 0/300 [00:00<?, ?it/s]"
      ]
     },
     "metadata": {},
     "output_type": "display_data"
    },
    {
     "data": {
      "application/vnd.jupyter.widget-view+json": {
       "model_id": "ebeecc2bf7d048e69a99b499b82a62dd",
       "version_major": 2,
       "version_minor": 0
      },
      "text/plain": [
       "distributing trains:   0%|          | 0/300 [00:00<?, ?it/s]"
      ]
     },
     "metadata": {},
     "output_type": "display_data"
    },
    {
     "data": {
      "application/vnd.jupyter.widget-view+json": {
       "model_id": "8306d6b393e94f5298d1aeca75e96c68",
       "version_major": 2,
       "version_minor": 0
      },
      "text/plain": [
       "distributing trains:   0%|          | 0/300 [00:00<?, ?it/s]"
      ]
     },
     "metadata": {},
     "output_type": "display_data"
    },
    {
     "data": {
      "application/vnd.jupyter.widget-view+json": {
       "model_id": "61fa50044aad43e3a663053ee28c2422",
       "version_major": 2,
       "version_minor": 0
      },
      "text/plain": [
       "distributing trains:   0%|          | 0/300 [00:00<?, ?it/s]"
      ]
     },
     "metadata": {},
     "output_type": "display_data"
    },
    {
     "data": {
      "application/vnd.jupyter.widget-view+json": {
       "model_id": "bfef393ca3984b95861244043f5ad62b",
       "version_major": 2,
       "version_minor": 0
      },
      "text/plain": [
       "distributing trains:   0%|          | 0/300 [00:00<?, ?it/s]"
      ]
     },
     "metadata": {},
     "output_type": "display_data"
    },
    {
     "data": {
      "application/vnd.jupyter.widget-view+json": {
       "model_id": "2646efc5865448dd9e065ec4bb13af7f",
       "version_major": 2,
       "version_minor": 0
      },
      "text/plain": [
       "distributing trains:   0%|          | 0/300 [00:00<?, ?it/s]"
      ]
     },
     "metadata": {},
     "output_type": "display_data"
    },
    {
     "data": {
      "application/vnd.jupyter.widget-view+json": {
       "model_id": "0716d991d53a4a36b095b5288e347fee",
       "version_major": 2,
       "version_minor": 0
      },
      "text/plain": [
       "distributing trains:   0%|          | 0/300 [00:00<?, ?it/s]"
      ]
     },
     "metadata": {},
     "output_type": "display_data"
    },
    {
     "data": {
      "application/vnd.jupyter.widget-view+json": {
       "model_id": "52b6813909444463bc453d437d4717ad",
       "version_major": 2,
       "version_minor": 0
      },
      "text/plain": [
       "distributing trains:   0%|          | 0/300 [00:00<?, ?it/s]"
      ]
     },
     "metadata": {},
     "output_type": "display_data"
    },
    {
     "data": {
      "application/vnd.jupyter.widget-view+json": {
       "model_id": "4b5cd356746e49a6b54d60dd4bbc4bce",
       "version_major": 2,
       "version_minor": 0
      },
      "text/plain": [
       "distributing trains:   0%|          | 0/300 [00:00<?, ?it/s]"
      ]
     },
     "metadata": {},
     "output_type": "display_data"
    },
    {
     "data": {
      "application/vnd.jupyter.widget-view+json": {
       "model_id": "4bd3b9ff688e472599cc617dcb96491e",
       "version_major": 2,
       "version_minor": 0
      },
      "text/plain": [
       "distributing trains:   0%|          | 0/300 [00:00<?, ?it/s]"
      ]
     },
     "metadata": {},
     "output_type": "display_data"
    },
    {
     "data": {
      "application/vnd.jupyter.widget-view+json": {
       "model_id": "700e6494909440d4b96137116f22c27f",
       "version_major": 2,
       "version_minor": 0
      },
      "text/plain": [
       "distributing trains:   0%|          | 0/300 [00:00<?, ?it/s]"
      ]
     },
     "metadata": {},
     "output_type": "display_data"
    },
    {
     "data": {
      "application/vnd.jupyter.widget-view+json": {
       "model_id": "54be18c0ddbc499ab3a2b250794d9a2d",
       "version_major": 2,
       "version_minor": 0
      },
      "text/plain": [
       "distributing trains:   0%|          | 0/300 [00:00<?, ?it/s]"
      ]
     },
     "metadata": {},
     "output_type": "display_data"
    },
    {
     "data": {
      "application/vnd.jupyter.widget-view+json": {
       "model_id": "8f53a9a2b9f946ec8f02afaa1d5a886e",
       "version_major": 2,
       "version_minor": 0
      },
      "text/plain": [
       "distributing trains:   0%|          | 0/300 [00:00<?, ?it/s]"
      ]
     },
     "metadata": {},
     "output_type": "display_data"
    },
    {
     "data": {
      "application/vnd.jupyter.widget-view+json": {
       "model_id": "0cd496773d59470a8502feeaca7d884f",
       "version_major": 2,
       "version_minor": 0
      },
      "text/plain": [
       "distributing trains:   0%|          | 0/300 [00:00<?, ?it/s]"
      ]
     },
     "metadata": {},
     "output_type": "display_data"
    },
    {
     "data": {
      "application/vnd.jupyter.widget-view+json": {
       "model_id": "bb6fac2e4f6c4eb0b903d33d38ccf7e6",
       "version_major": 2,
       "version_minor": 0
      },
      "text/plain": [
       "distributing trains:   0%|          | 0/300 [00:00<?, ?it/s]"
      ]
     },
     "metadata": {},
     "output_type": "display_data"
    },
    {
     "data": {
      "application/vnd.jupyter.widget-view+json": {
       "model_id": "fe1a72e751844188a0111910b6f5cf13",
       "version_major": 2,
       "version_minor": 0
      },
      "text/plain": [
       "distributing trains:   0%|          | 0/300 [00:00<?, ?it/s]"
      ]
     },
     "metadata": {},
     "output_type": "display_data"
    },
    {
     "data": {
      "application/vnd.jupyter.widget-view+json": {
       "model_id": "c688bd027d59460a933edacf5d9ad79a",
       "version_major": 2,
       "version_minor": 0
      },
      "text/plain": [
       "distributing trains:   0%|          | 0/300 [00:00<?, ?it/s]"
      ]
     },
     "metadata": {},
     "output_type": "display_data"
    },
    {
     "data": {
      "application/vnd.jupyter.widget-view+json": {
       "model_id": "72c1ade7900a41fe92f1eb7d05261594",
       "version_major": 2,
       "version_minor": 0
      },
      "text/plain": [
       "distributing trains:   0%|          | 0/300 [00:00<?, ?it/s]"
      ]
     },
     "metadata": {},
     "output_type": "display_data"
    },
    {
     "data": {
      "application/vnd.jupyter.widget-view+json": {
       "model_id": "8ad05e3200d74232b52d3bac0f5caf0d",
       "version_major": 2,
       "version_minor": 0
      },
      "text/plain": [
       "distributing trains:   0%|          | 0/300 [00:00<?, ?it/s]"
      ]
     },
     "metadata": {},
     "output_type": "display_data"
    },
    {
     "data": {
      "application/vnd.jupyter.widget-view+json": {
       "model_id": "dffb53896b524e018bffb60fd4221854",
       "version_major": 2,
       "version_minor": 0
      },
      "text/plain": [
       "distributing trains:   0%|          | 0/300 [00:00<?, ?it/s]"
      ]
     },
     "metadata": {},
     "output_type": "display_data"
    },
    {
     "data": {
      "application/vnd.jupyter.widget-view+json": {
       "model_id": "a2b168c6eb374e27a33cd93a1735a48e",
       "version_major": 2,
       "version_minor": 0
      },
      "text/plain": [
       "distributing trains:   0%|          | 0/300 [00:00<?, ?it/s]"
      ]
     },
     "metadata": {},
     "output_type": "display_data"
    },
    {
     "data": {
      "application/vnd.jupyter.widget-view+json": {
       "model_id": "365f6a48a482457ba86ad2850e8db808",
       "version_major": 2,
       "version_minor": 0
      },
      "text/plain": [
       "distributing trains:   0%|          | 0/300 [00:00<?, ?it/s]"
      ]
     },
     "metadata": {},
     "output_type": "display_data"
    },
    {
     "data": {
      "application/vnd.jupyter.widget-view+json": {
       "model_id": "827e083e48fb4b5986787c21fddab5e1",
       "version_major": 2,
       "version_minor": 0
      },
      "text/plain": [
       "distributing trains:   0%|          | 0/300 [00:00<?, ?it/s]"
      ]
     },
     "metadata": {},
     "output_type": "display_data"
    },
    {
     "data": {
      "application/vnd.jupyter.widget-view+json": {
       "model_id": "00544639ca79436ea32ad35724c6b00f",
       "version_major": 2,
       "version_minor": 0
      },
      "text/plain": [
       "distributing trains:   0%|          | 0/300 [00:00<?, ?it/s]"
      ]
     },
     "metadata": {},
     "output_type": "display_data"
    },
    {
     "data": {
      "application/vnd.jupyter.widget-view+json": {
       "model_id": "ce1f9a4508d444ce9876b6bcf6549703",
       "version_major": 2,
       "version_minor": 0
      },
      "text/plain": [
       "distributing trains:   0%|          | 0/300 [00:00<?, ?it/s]"
      ]
     },
     "metadata": {},
     "output_type": "display_data"
    },
    {
     "data": {
      "application/vnd.jupyter.widget-view+json": {
       "model_id": "6aca9213292846de939340ead529fde8",
       "version_major": 2,
       "version_minor": 0
      },
      "text/plain": [
       "distributing trains:   0%|          | 0/300 [00:00<?, ?it/s]"
      ]
     },
     "metadata": {},
     "output_type": "display_data"
    },
    {
     "data": {
      "application/vnd.jupyter.widget-view+json": {
       "model_id": "6107f44027194edaab97a16c83a99c69",
       "version_major": 2,
       "version_minor": 0
      },
      "text/plain": [
       "distributing trains:   0%|          | 0/300 [00:00<?, ?it/s]"
      ]
     },
     "metadata": {},
     "output_type": "display_data"
    },
    {
     "data": {
      "application/vnd.jupyter.widget-view+json": {
       "model_id": "73c2680ad675408186d92601b741072b",
       "version_major": 2,
       "version_minor": 0
      },
      "text/plain": [
       "distributing trains:   0%|          | 0/300 [00:00<?, ?it/s]"
      ]
     },
     "metadata": {},
     "output_type": "display_data"
    },
    {
     "data": {
      "application/vnd.jupyter.widget-view+json": {
       "model_id": "fbe9a0bba05e48edb06eb6b09b4d5bb9",
       "version_major": 2,
       "version_minor": 0
      },
      "text/plain": [
       "distributing trains:   0%|          | 0/300 [00:00<?, ?it/s]"
      ]
     },
     "metadata": {},
     "output_type": "display_data"
    },
    {
     "data": {
      "application/vnd.jupyter.widget-view+json": {
       "model_id": "4101bfc6e06e491fbbf4aaade6d0b7ac",
       "version_major": 2,
       "version_minor": 0
      },
      "text/plain": [
       "distributing trains:   0%|          | 0/300 [00:00<?, ?it/s]"
      ]
     },
     "metadata": {},
     "output_type": "display_data"
    },
    {
     "data": {
      "application/vnd.jupyter.widget-view+json": {
       "model_id": "95735d30a8e94a57ac6129c2aca55031",
       "version_major": 2,
       "version_minor": 0
      },
      "text/plain": [
       "distributing trains:   0%|          | 0/300 [00:00<?, ?it/s]"
      ]
     },
     "metadata": {},
     "output_type": "display_data"
    },
    {
     "data": {
      "application/vnd.jupyter.widget-view+json": {
       "model_id": "84f9b9eb40a1424a8ebf481dce64c2f4",
       "version_major": 2,
       "version_minor": 0
      },
      "text/plain": [
       "distributing trains:   0%|          | 0/300 [00:00<?, ?it/s]"
      ]
     },
     "metadata": {},
     "output_type": "display_data"
    },
    {
     "data": {
      "application/vnd.jupyter.widget-view+json": {
       "model_id": "93d62d45eb4d4ecb8794c16c5f3a1175",
       "version_major": 2,
       "version_minor": 0
      },
      "text/plain": [
       "distributing trains:   0%|          | 0/300 [00:00<?, ?it/s]"
      ]
     },
     "metadata": {},
     "output_type": "display_data"
    },
    {
     "data": {
      "application/vnd.jupyter.widget-view+json": {
       "model_id": "3902c775a68744ecb06dbfdf6d332f8d",
       "version_major": 2,
       "version_minor": 0
      },
      "text/plain": [
       "distributing trains:   0%|          | 0/300 [00:00<?, ?it/s]"
      ]
     },
     "metadata": {},
     "output_type": "display_data"
    },
    {
     "data": {
      "application/vnd.jupyter.widget-view+json": {
       "model_id": "0040405132fe477dacd113f0f45cb67f",
       "version_major": 2,
       "version_minor": 0
      },
      "text/plain": [
       "distributing trains:   0%|          | 0/300 [00:00<?, ?it/s]"
      ]
     },
     "metadata": {},
     "output_type": "display_data"
    },
    {
     "data": {
      "application/vnd.jupyter.widget-view+json": {
       "model_id": "129616ebbfc34afa904e521736f655d3",
       "version_major": 2,
       "version_minor": 0
      },
      "text/plain": [
       "distributing trains:   0%|          | 0/300 [00:00<?, ?it/s]"
      ]
     },
     "metadata": {},
     "output_type": "display_data"
    },
    {
     "data": {
      "application/vnd.jupyter.widget-view+json": {
       "model_id": "e4099540b24148bb9a2d2e3ea1390889",
       "version_major": 2,
       "version_minor": 0
      },
      "text/plain": [
       "distributing trains:   0%|          | 0/300 [00:00<?, ?it/s]"
      ]
     },
     "metadata": {},
     "output_type": "display_data"
    },
    {
     "data": {
      "application/vnd.jupyter.widget-view+json": {
       "model_id": "902e82796a814d14a0c5cdde442d45f9",
       "version_major": 2,
       "version_minor": 0
      },
      "text/plain": [
       "distributing trains:   0%|          | 0/300 [00:00<?, ?it/s]"
      ]
     },
     "metadata": {},
     "output_type": "display_data"
    },
    {
     "data": {
      "application/vnd.jupyter.widget-view+json": {
       "model_id": "5c9ce6f6c7b44483b1cc8d8862b645df",
       "version_major": 2,
       "version_minor": 0
      },
      "text/plain": [
       "distributing trains:   0%|          | 0/300 [00:00<?, ?it/s]"
      ]
     },
     "metadata": {},
     "output_type": "display_data"
    },
    {
     "data": {
      "application/vnd.jupyter.widget-view+json": {
       "model_id": "b6bbc32ac8754b7abb5ce17abd240918",
       "version_major": 2,
       "version_minor": 0
      },
      "text/plain": [
       "distributing trains:   0%|          | 0/300 [00:00<?, ?it/s]"
      ]
     },
     "metadata": {},
     "output_type": "display_data"
    },
    {
     "data": {
      "application/vnd.jupyter.widget-view+json": {
       "model_id": "ded8b6e56fa34a939b42048b20d6ed1d",
       "version_major": 2,
       "version_minor": 0
      },
      "text/plain": [
       "distributing trains:   0%|          | 0/300 [00:00<?, ?it/s]"
      ]
     },
     "metadata": {},
     "output_type": "display_data"
    },
    {
     "data": {
      "application/vnd.jupyter.widget-view+json": {
       "model_id": "a08343fab42247528270350f910e400a",
       "version_major": 2,
       "version_minor": 0
      },
      "text/plain": [
       "distributing trains:   0%|          | 0/89 [00:00<?, ?it/s]"
      ]
     },
     "metadata": {},
     "output_type": "display_data"
    }
   ],
   "source": [
    "mask = load_mask(run, module, phi)\n",
    "roi = get_roi(mask)\n",
    "mask = mask[roi]\n",
    "\n",
    "for group in tqdm(range(61), total=61, desc='processing group'):\n",
    "    output_file_stats = rf'./calculated_statistics/run{run:02d}_module{module:02d}_group{group:02d}_phi{phi:01d}.h5'\n",
    "    if exists(output_file_stats):\n",
    "        continue\n",
    "    photon_maps = load_photon_maps(run, module, group, phi, roi)\n",
    "    \n",
    "    futures = []\n",
    "    for train, train_id in tqdm(zip(photon_maps, np.arange(len(photon_maps))), total=len(photon_maps), desc='distributing trains'):\n",
    "        future = client.submit(process_train, truncated_train=train, small_mask=mask, run_index=run, module_index=module,\n",
    "                               group_index=group, phi_index=phi, train_index=train_id, field=field, pulse_tol=0.05)\n",
    "        futures.append(future)\n",
    "    out = client.gather(futures)\n",
    "    ds = xr.concat(out, dim='train_index')\n",
    "    ds.to_netcdf(output_file_stats, engine='h5netcdf')\n",
    "    "
   ]
  },
  {
   "cell_type": "code",
   "execution_count": 9,
   "id": "c8824975-bbc9-4e9c-b95b-9ee0a0bf4cb2",
   "metadata": {},
   "outputs": [
    {
     "name": "stderr",
     "output_type": "stream",
     "text": [
      "distributed.client - ERROR - Failed to reconnect to scheduler after 10.00 seconds, closing client\n",
      "_GatheringFuture exception was never retrieved\n",
      "future: <_GatheringFuture finished exception=CancelledError()>\n",
      "concurrent.futures._base.CancelledError\n"
     ]
    }
   ],
   "source": [
    "client.shutdown()"
   ]
  },
  {
   "cell_type": "code",
   "execution_count": null,
   "id": "fc315b36-2e23-4bbe-8160-e9939ffd5b00",
   "metadata": {},
   "outputs": [],
   "source": []
  }
 ],
 "metadata": {
  "kernelspec": {
   "display_name": "SCS Toolbox (p002884)",
   "language": "python",
   "name": "toolbox_p002884"
  },
  "language_info": {
   "codemirror_mode": {
    "name": "ipython",
    "version": 3
   },
   "file_extension": ".py",
   "mimetype": "text/x-python",
   "name": "python",
   "nbconvert_exporter": "python",
   "pygments_lexer": "ipython3",
   "version": "3.7.3"
  }
 },
 "nbformat": 4,
 "nbformat_minor": 5
}
